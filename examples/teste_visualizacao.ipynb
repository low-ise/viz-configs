from src.paletas import CORES_SOBRIAS, CORES_GENTIS, gerar_paleta_completa
from src.configuracoes import configurar_seaborn

# Gerar paleta completa
paleta_completa = gerar_paleta_completa()

# Configurar visualização
configurar_seaborn(paleta_completa)

# Exemplo de uso
import pandas as pd
import numpy as np
import matplotlib.pyplot as plt
import seaborn as sns

# Dados fictícios
mes_nome = ['Jan', 'Fev', 'Mar', 'Abr', 'Mai', 'Jun', 'Jul', 'Ago', 'Set', 'Out', 'Nov', 'Dez']
valores = np.random.randint(10, 100, size=12)

df = pd.DataFrame({'Mes': mes_nome, 'Valor': valores})

plt.figure(figsize=(10, 6))
sns.barplot(data=df, x='Mes', y='Valor', palette=paleta_completa[6:18])
plt.title('Gráfico com Paleta Completa')
plt.show()
